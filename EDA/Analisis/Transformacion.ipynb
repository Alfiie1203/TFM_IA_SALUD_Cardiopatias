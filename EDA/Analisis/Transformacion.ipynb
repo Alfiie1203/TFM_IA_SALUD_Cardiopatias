{
 "cells": [
  {
   "cell_type": "code",
   "execution_count": 1,
   "metadata": {},
   "outputs": [],
   "source": [
    "import pandas as pd\n",
    "import sys\n",
    "sys.path.append('../../Recursos')\n",
    "import toolbook as toolbook"
   ]
  },
  {
   "cell_type": "code",
   "execution_count": 2,
   "metadata": {},
   "outputs": [],
   "source": [
    "dataset = pd.read_csv('../../Datos/Iniciales/heart_disease_dataset.csv')"
   ]
  },
  {
   "cell_type": "code",
   "execution_count": 3,
   "metadata": {},
   "outputs": [
    {
     "name": "stdout",
     "output_type": "stream",
     "text": [
      "_______________________________________\n",
      "Cantidad de valores faltantes por columna:\n",
      "+----+-----------+---------------------+\n",
      "|    | Columna   |   Valores Faltantes |\n",
      "+====+===========+=====================+\n",
      "|  0 | ca        |                   4 |\n",
      "+----+-----------+---------------------+\n",
      "|  1 | thal      |                   2 |\n",
      "+----+-----------+---------------------+\n",
      "Las columnas que no se muestren es porque no tienen valores nulos\n",
      "_______________________________________\n",
      "\n",
      "Ahora, iteremos sobre las columnas que tienen nulos\n",
      "\n",
      "Columna: ca\n",
      "Los valores únicos de ca y su frecuencia de aparición son:\n",
      "\n",
      "+----+------+---------+\n",
      "|    |   ca |   count |\n",
      "+====+======+=========+\n",
      "|  0 |    0 |     176 |\n",
      "+----+------+---------+\n",
      "|  1 |    1 |      65 |\n",
      "+----+------+---------+\n",
      "|  2 |    2 |      38 |\n",
      "+----+------+---------+\n",
      "|  3 |    3 |      20 |\n",
      "+----+------+---------+\n",
      "\n",
      "Opciones para manejar datos faltantes:\n",
      "1. Eliminar filas con datos faltantes en esta columna\n",
      "2. Imputar valores faltantes en esta columna (media, mediana, moda)\n",
      "3. Interpolar valores faltantes en esta columna\n",
      "4. Codificar datos faltantes en esta columna\n",
      "5. Eliminar esta columna\n"
     ]
    },
    {
     "name": "stdout",
     "output_type": "stream",
     "text": [
      "\n",
      "Se imputa valores faltantes en esta columna con la moda\n",
      "\n",
      "Datos actualizados en ca :\n",
      "keys\n",
      "+-----+-------+-------+------+------------+--------+-------+-----------+-----------+---------+-----------+---------+------+--------+-------+\n",
      "|     |   age |   sex |   cp |   trestbps |   chol |   fbs |   restecg |   thalach |   exang |   oldpeak |   slope |   ca |   thal |   num |\n",
      "+=====+=======+=======+======+============+========+=======+===========+===========+=========+===========+=========+======+========+=======+\n",
      "| 166 |    52 |     1 |    3 |        138 |    223 |     0 |         0 |       169 |       0 |       0   |       1 |    0 |      3 |     0 |\n",
      "+-----+-------+-------+------+------------+--------+-------+-----------+-----------+---------+-----------+---------+------+--------+-------+\n",
      "| 192 |    43 |     1 |    4 |        132 |    247 |     1 |         2 |       143 |       1 |       0.1 |       2 |    0 |      7 |     1 |\n",
      "+-----+-------+-------+------+------------+--------+-------+-----------+-----------+---------+-----------+---------+------+--------+-------+\n",
      "| 287 |    58 |     1 |    2 |        125 |    220 |     0 |         0 |       144 |       0 |       0.4 |       2 |    0 |      7 |     0 |\n",
      "+-----+-------+-------+------+------------+--------+-------+-----------+-----------+---------+-----------+---------+------+--------+-------+\n",
      "| 302 |    38 |     1 |    3 |        138 |    175 |     0 |         0 |       173 |       0 |       0   |       1 |    0 |      3 |     0 |\n",
      "+-----+-------+-------+------+------------+--------+-------+-----------+-----------+---------+-----------+---------+------+--------+-------+\n",
      "\n",
      "Columna: thal\n",
      "Los valores únicos de thal y su frecuencia de aparición son:\n",
      "\n",
      "+----+--------+---------+\n",
      "|    |   thal |   count |\n",
      "+====+========+=========+\n",
      "|  0 |      3 |     166 |\n",
      "+----+--------+---------+\n",
      "|  1 |      7 |     117 |\n",
      "+----+--------+---------+\n",
      "|  2 |      6 |      18 |\n",
      "+----+--------+---------+\n",
      "\n",
      "Opciones para manejar datos faltantes:\n",
      "1. Eliminar filas con datos faltantes en esta columna\n",
      "2. Imputar valores faltantes en esta columna (media, mediana, moda)\n",
      "3. Interpolar valores faltantes en esta columna\n",
      "4. Codificar datos faltantes en esta columna\n",
      "5. Eliminar esta columna\n",
      "\n",
      "Se imputa valores faltantes en esta columna con la moda\n",
      "\n",
      "Datos actualizados en thal :\n",
      "keys\n",
      "+-----+-------+-------+------+------------+--------+-------+-----------+-----------+---------+-----------+---------+------+--------+-------+\n",
      "|     |   age |   sex |   cp |   trestbps |   chol |   fbs |   restecg |   thalach |   exang |   oldpeak |   slope |   ca |   thal |   num |\n",
      "+=====+=======+=======+======+============+========+=======+===========+===========+=========+===========+=========+======+========+=======+\n",
      "|  87 |    53 |     0 |    3 |        128 |    216 |     0 |         2 |       115 |       0 |         0 |       1 |    0 |      3 |     0 |\n",
      "+-----+-------+-------+------+------------+--------+-------+-----------+-----------+---------+-----------+---------+------+--------+-------+\n",
      "| 266 |    52 |     1 |    4 |        128 |    204 |     1 |         0 |       156 |       1 |         1 |       2 |    0 |      3 |     2 |\n",
      "+-----+-------+-------+------+------------+--------+-------+-----------+-----------+---------+-----------+---------+------+--------+-------+\n"
     ]
    }
   ],
   "source": [
    "dataset_NoNull = toolbook.handle_missing_data(dataset)"
   ]
  },
  {
   "cell_type": "code",
   "execution_count": 4,
   "metadata": {},
   "outputs": [
    {
     "name": "stdout",
     "output_type": "stream",
     "text": [
      "No hay valores duplicados en el conjunto de datos.\n"
     ]
    }
   ],
   "source": [
    "dataset_NoDuplicate = toolbook.handle_duplicate_data(dataset_NoNull)"
   ]
  },
  {
   "cell_type": "code",
   "execution_count": 5,
   "metadata": {},
   "outputs": [
    {
     "name": "stdout",
     "output_type": "stream",
     "text": [
      "\n",
      "_______________________________________\n",
      "Los valores atípicos en la columna 'trestbps' son: [200, 192]\n",
      "Los valores de esta columna deberían estar en este rango: [94, 180]\n",
      "_______________________________________\n",
      "\n",
      "Opciones para manejar valores atípicos en la columna 'trestbps':\n",
      "1. Imputar la media de la columna\n",
      "2. Imputar la mediana de la columna\n",
      "3. Imputar el valor mínimo de la columna\n",
      "4. Imputar el valor máximo de la columna\n",
      "5. Eliminar filas con valores atípicos en esta columna\n",
      "6. Sustituir los valores atípicos con un valor específico\n",
      "7. Mantener los valores atípicos intactos\n",
      "\n",
      "Se mantiene los valores atípicos intactos\n",
      "\n",
      "_______________________________________\n",
      "Los valores atípicos en la columna 'chol' son: [417, 407, 564, 409]\n",
      "Los valores de esta columna deberían estar en este rango: [126, 394]\n",
      "_______________________________________\n",
      "\n",
      "Opciones para manejar valores atípicos en la columna 'chol':\n",
      "1. Imputar la media de la columna\n",
      "2. Imputar la mediana de la columna\n",
      "3. Imputar el valor mínimo de la columna\n",
      "4. Imputar el valor máximo de la columna\n",
      "5. Eliminar filas con valores atípicos en esta columna\n",
      "6. Sustituir los valores atípicos con un valor específico\n",
      "7. Mantener los valores atípicos intactos\n",
      "\n",
      "Se mantiene los valores atípicos intactos\n",
      "\n",
      "_______________________________________\n",
      "Los valores atípicos en la columna 'thalach' son: [71]\n",
      "Los valores de esta columna deberían estar en este rango: [88, 202]\n",
      "_______________________________________\n",
      "\n",
      "Opciones para manejar valores atípicos en la columna 'thalach':\n",
      "1. Imputar la media de la columna\n",
      "2. Imputar la mediana de la columna\n",
      "3. Imputar el valor mínimo de la columna\n",
      "4. Imputar el valor máximo de la columna\n",
      "5. Eliminar filas con valores atípicos en esta columna\n",
      "6. Sustituir los valores atípicos con un valor específico\n",
      "7. Mantener los valores atípicos intactos\n",
      "\n",
      "Se mantiene los valores atípicos intactos\n",
      "\n",
      "_______________________________________\n",
      "Los valores atípicos en la columna 'oldpeak' son: [6.2, 5.6]\n",
      "Los valores de esta columna deberían estar en este rango: [0.0, 4.4]\n",
      "_______________________________________\n",
      "\n",
      "Opciones para manejar valores atípicos en la columna 'oldpeak':\n",
      "1. Imputar la media de la columna\n",
      "2. Imputar la mediana de la columna\n",
      "3. Imputar el valor mínimo de la columna\n",
      "4. Imputar el valor máximo de la columna\n",
      "5. Eliminar filas con valores atípicos en esta columna\n",
      "6. Sustituir los valores atípicos con un valor específico\n",
      "7. Mantener los valores atípicos intactos\n",
      "\n",
      "Se mantiene los valores atípicos intactos\n"
     ]
    }
   ],
   "source": [
    "dataset_NoOutliers = toolbook.handle_outliers(dataset_NoDuplicate)"
   ]
  },
  {
   "cell_type": "code",
   "execution_count": 7,
   "metadata": {},
   "outputs": [],
   "source": [
    "ruta_csv = '../../Datos/Transformaciones/heart_disease_dataset_all_columns.csv'\n",
    "\n",
    "# Exporta el DataFrame a un archivo CSV\n",
    "dataset_NoOutliers.to_csv(ruta_csv, index=False)"
   ]
  },
  {
   "cell_type": "code",
   "execution_count": null,
   "metadata": {},
   "outputs": [],
   "source": []
  }
 ],
 "metadata": {
  "kernelspec": {
   "display_name": "Python 3",
   "language": "python",
   "name": "python3"
  },
  "language_info": {
   "codemirror_mode": {
    "name": "ipython",
    "version": 3
   },
   "file_extension": ".py",
   "mimetype": "text/x-python",
   "name": "python",
   "nbconvert_exporter": "python",
   "pygments_lexer": "ipython3",
   "version": "3.12.1"
  }
 },
 "nbformat": 4,
 "nbformat_minor": 2
}

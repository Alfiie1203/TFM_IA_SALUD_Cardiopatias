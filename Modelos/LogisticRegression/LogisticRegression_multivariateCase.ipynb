{
 "cells": [
  {
   "cell_type": "code",
   "execution_count": 4,
   "metadata": {},
   "outputs": [],
   "source": [
    "import pandas as pd\n",
    "import sys\n",
    "sys.path.append('../../Recursos')\n",
    "import toolbook as toolbook"
   ]
  },
  {
   "cell_type": "code",
   "execution_count": 5,
   "metadata": {},
   "outputs": [],
   "source": [
    "# Leer el dataset\n",
    "dataset = pd.read_csv('../../Datos/Transformaciones/heart_disease_dataset_no_target.csv')"
   ]
  },
  {
   "cell_type": "code",
   "execution_count": 6,
   "metadata": {},
   "outputs": [],
   "source": [
    "# Preprocesar los datos\n",
    "X_train, X_test, y_train, y_test = toolbook.preprocess_data(dataset, 'num', 0.25, 1)"
   ]
  },
  {
   "cell_type": "code",
   "execution_count": 7,
   "metadata": {},
   "outputs": [],
   "source": [
    "from sklearn.linear_model import LogisticRegression\n",
    "\n",
    "# Entrenar el clasificador\n",
    "classifier = LogisticRegression(multi_class='multinomial', solver='lbfgs')\n",
    "classifier.fit(X_train, y_train)\n",
    "\n",
    "# Predecir en el conjunto de prueba\n",
    "y_pred = classifier.predict(X_test)"
   ]
  },
  {
   "cell_type": "code",
   "execution_count": 8,
   "metadata": {},
   "outputs": [
    {
     "name": "stdout",
     "output_type": "stream",
     "text": [
      "Accuracy: 0.5921052631578947\n",
      "Precision: 0.5578630433893592\n",
      "Recall: 0.5921052631578947\n",
      "F1 Score: 0.573001949317739\n",
      "Confusion Matrix:\n",
      " [[36  4  0  1  0]\n",
      " [ 7  4  2  1  0]\n",
      " [ 0  1  3  3  0]\n",
      " [ 1  4  4  2  0]\n",
      " [ 0  0  1  2  0]]\n"
     ]
    },
    {
     "name": "stderr",
     "output_type": "stream",
     "text": [
      "c:\\Users\\Alfiie\\AppData\\Local\\Programs\\Python\\Python312\\Lib\\site-packages\\sklearn\\metrics\\_classification.py:1471: UndefinedMetricWarning: Precision is ill-defined and being set to 0.0 in labels with no predicted samples. Use `zero_division` parameter to control this behavior.\n",
      "  _warn_prf(average, modifier, msg_start, len(result))\n"
     ]
    }
   ],
   "source": [
    "# Evaluar el modelo\n",
    "toolbook.evaluate_classification(y_pred, y_test, \"M\")"
   ]
  },
  {
   "cell_type": "code",
   "execution_count": 10,
   "metadata": {},
   "outputs": [
    {
     "name": "stdout",
     "output_type": "stream",
     "text": [
      "Predicción para la instancia 1 : 4\n",
      "Probabilidades para cada clase: [1.15049928e-22 2.76819534e-40 1.26047612e-26 4.75142062e-42\n",
      " 1.00000000e+00]\n"
     ]
    },
    {
     "name": "stderr",
     "output_type": "stream",
     "text": [
      "c:\\Users\\Alfiie\\AppData\\Local\\Programs\\Python\\Python312\\Lib\\site-packages\\sklearn\\base.py:458: UserWarning: X has feature names, but LogisticRegression was fitted without feature names\n",
      "  warnings.warn(\n",
      "c:\\Users\\Alfiie\\AppData\\Local\\Programs\\Python\\Python312\\Lib\\site-packages\\sklearn\\base.py:458: UserWarning: X has feature names, but LogisticRegression was fitted without feature names\n",
      "  warnings.warn(\n"
     ]
    }
   ],
   "source": [
    "# Leer el nuevo dataset\n",
    "Newdataset = pd.read_csv('../../Datos/Prediciones/prueba_prediccion.csv')\n",
    "\n",
    "# Preprocesar los datos (si es necesario)\n",
    "# Aquí debes aplicar el mismo preprocesamiento que hiciste en el conjunto de entrenamiento\n",
    "# Puede implicar la imputación de valores faltantes, codificación de variables categóricas, etc.\n",
    "\n",
    "# Realizar la predicción\n",
    "y_new_pred = classifier.predict(Newdataset)\n",
    "\n",
    "# Predicción de probabilidades para el nuevo dataset\n",
    "y_new_prob = classifier.predict_proba(Newdataset)\n",
    "\n",
    "# Mostrar los resultados para cada instancia del nuevo dataset\n",
    "for i, pred in enumerate(y_new_pred):\n",
    "    print(\"Predicción para la instancia\", i+1, \":\", pred)\n",
    "    print(\"Probabilidades para cada clase:\", y_new_prob[i])"
   ]
  },
  {
   "cell_type": "code",
   "execution_count": null,
   "metadata": {},
   "outputs": [],
   "source": []
  }
 ],
 "metadata": {
  "kernelspec": {
   "display_name": "Python 3",
   "language": "python",
   "name": "python3"
  },
  "language_info": {
   "codemirror_mode": {
    "name": "ipython",
    "version": 3
   },
   "file_extension": ".py",
   "mimetype": "text/x-python",
   "name": "python",
   "nbconvert_exporter": "python",
   "pygments_lexer": "ipython3",
   "version": "3.12.1"
  }
 },
 "nbformat": 4,
 "nbformat_minor": 2
}

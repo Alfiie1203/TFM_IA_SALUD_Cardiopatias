{
 "cells": [
  {
   "cell_type": "code",
   "execution_count": 1,
   "metadata": {},
   "outputs": [],
   "source": [
    "import pandas as pd\n",
    "import numpy as np\n",
    "import matplotlib.pyplot as plt\n",
    "import sys\n",
    "sys.path.append('../Recursos')\n",
    "import toolbook as toolbook"
   ]
  },
  {
   "cell_type": "code",
   "execution_count": 2,
   "metadata": {},
   "outputs": [],
   "source": [
    "dataset = pd.read_csv('../Datos/Transformaciones/heart_disease_dataset_no_num.csv')"
   ]
  },
  {
   "cell_type": "code",
   "execution_count": 3,
   "metadata": {},
   "outputs": [],
   "source": [
    "X_train, X_test, y_train, y_test = toolbook.preprocess_data(dataset, 'target', 0.25, 1)"
   ]
  },
  {
   "cell_type": "code",
   "execution_count": 4,
   "metadata": {},
   "outputs": [],
   "source": [
    "from sklearn.linear_model import LogisticRegression\n",
    "\n",
    "classifier = LogisticRegression()\n",
    "classifier.fit(X_train, y_train)\n",
    "y_pred = classifier.predict(X_test)"
   ]
  },
  {
   "cell_type": "code",
   "execution_count": 5,
   "metadata": {},
   "outputs": [
    {
     "name": "stdout",
     "output_type": "stream",
     "text": [
      "Accuracy: 0.8289473684210527\n",
      "Precision: 0.8055555555555556\n",
      "Recall: 0.8285714285714286\n",
      "F1 Score: 0.8169014084507044\n",
      "AUC-ROC: 0.8289198606271777\n"
     ]
    }
   ],
   "source": [
    "toolbook.evaluate_classification(y_pred, y_test, \"B\")"
   ]
  },
  {
   "cell_type": "code",
   "execution_count": 6,
   "metadata": {},
   "outputs": [
    {
     "name": "stdout",
     "output_type": "stream",
     "text": [
      "Porcentaje de ausencia de la condición médica: 99.99999999390191 %\n",
      "Porcentaje de presencia de la condición médica: 6.0980834031014115e-09 %\n"
     ]
    },
    {
     "name": "stderr",
     "output_type": "stream",
     "text": [
      "c:\\Users\\Alfiie\\AppData\\Local\\Programs\\Python\\Python312\\Lib\\site-packages\\sklearn\\base.py:458: UserWarning: X has feature names, but LogisticRegression was fitted without feature names\n",
      "  warnings.warn(\n",
      "c:\\Users\\Alfiie\\AppData\\Local\\Programs\\Python\\Python312\\Lib\\site-packages\\sklearn\\base.py:458: UserWarning: X has feature names, but LogisticRegression was fitted without feature names\n",
      "  warnings.warn(\n"
     ]
    }
   ],
   "source": [
    "##PREDICTION FOR NEW DATASET\n",
    "\n",
    "Newdataset = pd.read_csv('../Datos/Prediciones/prueba_prediccion.csv')  # Inserta los valores adecuados\n",
    "ynew=classifier.predict(Newdataset)\n",
    "\n",
    "# Predicción de probabilidades para el nuevo dataset\n",
    "y_new_prob = classifier.predict_proba(Newdataset)\n",
    "\n",
    "\n",
    "# Obtener las probabilidades de predicción para las clases 0 y 1\n",
    "prob_ausencia = y_new_prob[0][0]\n",
    "prob_presencia = y_new_prob[0][1]\n",
    "\n",
    "# Calcular los porcentajes de ausencia y presencia\n",
    "porcentaje_ausencia = prob_ausencia * 100\n",
    "porcentaje_presencia = prob_presencia * 100\n",
    "\n",
    "# Mostrar los resultados\n",
    "print(\"Porcentaje de ausencia de la condición médica:\", porcentaje_ausencia, \"%\")\n",
    "print(\"Porcentaje de presencia de la condición médica:\", porcentaje_presencia, \"%\")"
   ]
  },
  {
   "cell_type": "code",
   "execution_count": null,
   "metadata": {},
   "outputs": [],
   "source": []
  }
 ],
 "metadata": {
  "kernelspec": {
   "display_name": "Python 3",
   "language": "python",
   "name": "python3"
  },
  "language_info": {
   "codemirror_mode": {
    "name": "ipython",
    "version": 3
   },
   "file_extension": ".py",
   "mimetype": "text/x-python",
   "name": "python",
   "nbconvert_exporter": "python",
   "pygments_lexer": "ipython3",
   "version": "3.12.1"
  }
 },
 "nbformat": 4,
 "nbformat_minor": 2
}
